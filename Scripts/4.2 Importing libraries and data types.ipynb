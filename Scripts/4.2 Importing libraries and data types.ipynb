{
 "cells": [
  {
   "cell_type": "markdown",
   "id": "4c83ced5",
   "metadata": {},
   "source": [
    "# Importing Libraries"
   ]
  },
  {
   "cell_type": "code",
   "execution_count": 1,
   "id": "48b1b219",
   "metadata": {},
   "outputs": [],
   "source": [
    "# import libraries\n",
    "import pandas as pd\n",
    "import numpy as np\n",
    "import os"
   ]
  },
  {
   "cell_type": "markdown",
   "id": "76682ae1",
   "metadata": {},
   "source": [
    "# Data types in Python"
   ]
  },
  {
   "cell_type": "markdown",
   "id": "dcd30680",
   "metadata": {},
   "source": [
    "## Get the result 100 by adding/substracting"
   ]
  },
  {
   "cell_type": "code",
   "execution_count": 1,
   "id": "83300045",
   "metadata": {},
   "outputs": [
    {
     "name": "stdout",
     "output_type": "stream",
     "text": [
      "100\n"
     ]
    }
   ],
   "source": [
    "# way 1\n",
    "x = 98\n",
    "y = 2\n",
    "print(x + y)"
   ]
  },
  {
   "cell_type": "code",
   "execution_count": 2,
   "id": "91aed3e4",
   "metadata": {},
   "outputs": [
    {
     "name": "stdout",
     "output_type": "stream",
     "text": [
      "100\n"
     ]
    }
   ],
   "source": [
    "# way 2\n",
    "x = 105\n",
    "print(x - 5)"
   ]
  },
  {
   "cell_type": "code",
   "execution_count": 3,
   "id": "4142bce4",
   "metadata": {},
   "outputs": [
    {
     "name": "stdout",
     "output_type": "stream",
     "text": [
      "100\n"
     ]
    }
   ],
   "source": [
    "# way 3\n",
    "x = 100\n",
    "y = 10\n",
    "z = 5\n",
    "print(x + y - 2 * z)"
   ]
  },
  {
   "cell_type": "markdown",
   "id": "ea833d07",
   "metadata": {},
   "source": [
    "## 2 floating-point variables dividing each other"
   ]
  },
  {
   "cell_type": "code",
   "execution_count": 4,
   "id": "a33fcf45",
   "metadata": {},
   "outputs": [
    {
     "name": "stdout",
     "output_type": "stream",
     "text": [
      "3.0\n"
     ]
    }
   ],
   "source": [
    "x = 1.5\n",
    "y = 0.5\n",
    "print(x / y)"
   ]
  },
  {
   "cell_type": "markdown",
   "id": "9aa5bc79",
   "metadata": {},
   "source": [
    "## Short word out of seperate strings"
   ]
  },
  {
   "cell_type": "code",
   "execution_count": 7,
   "id": "549e0d66",
   "metadata": {},
   "outputs": [
    {
     "name": "stdout",
     "output_type": "stream",
     "text": [
      "Holland\n"
     ]
    }
   ],
   "source": [
    "a = \"Hol\"\n",
    "b = \"land\"\n",
    "print(a + b)"
   ]
  },
  {
   "cell_type": "markdown",
   "id": "85fd2896",
   "metadata": {},
   "source": [
    "## 2 short sentences made of seperate strings"
   ]
  },
  {
   "cell_type": "code",
   "execution_count": 11,
   "id": "cebaa49c",
   "metadata": {},
   "outputs": [
    {
     "name": "stdout",
     "output_type": "stream",
     "text": [
      "Some\n",
      "times\n",
      "you\n",
      "gotta\n",
      "send\n",
      "it\n",
      "!\n"
     ]
    }
   ],
   "source": [
    "# sentence 1\n",
    "strings = [\"Some\", \"times\", \"you\", \"gotta\", \"send\", \"it\"]\n",
    "for x in strings:\n",
    "    print(x)\n",
    "print(\"!\")\n"
   ]
  },
  {
   "cell_type": "code",
   "execution_count": 12,
   "id": "03b9b0d0",
   "metadata": {},
   "outputs": [
    {
     "name": "stdout",
     "output_type": "stream",
     "text": [
      "I like this!\n"
     ]
    }
   ],
   "source": [
    "# sentence 2\n",
    "a = \"like\"\n",
    "print(\"I \" + a + \" this!\")"
   ]
  },
  {
   "cell_type": "markdown",
   "id": "a156b848",
   "metadata": {},
   "source": [
    "### Bonus :)"
   ]
  },
  {
   "cell_type": "code",
   "execution_count": 1,
   "id": "b3f75f3f",
   "metadata": {},
   "outputs": [
    {
     "name": "stdout",
     "output_type": "stream",
     "text": [
      "This is greatgreatgreatgreatgreatgreatgreatgreatgreatgreatgreatgreatgreatgreatgreatgreatgreatgreatgreatgreatgreatgreatgreatgreatgreatgreatgreatgreatgreatgreatgreatgreatgreatgreatgreatgreatgreatgreatgreatgreatgreatgreatgreatgreatgreatgreatgreatgreatgreatgreatgreatgreatgreatgreatgreatgreatgreatgreatgreatgreatgreatgreatgreatgreatgreatgreatgreatgreatgreatgreatgreatgreatgreatgreatgreatgreatgreatgreatgreatgreatgreatgreatgreatgreatgreatgreatgreatgreatgreatgreatgreatgreatgreatgreatgreatgreatgreatgreatgreatgreat!\n"
     ]
    }
   ],
   "source": [
    "whatItIs = \"great\"\n",
    "n = 100\n",
    "print(\"This is \" + n * whatItIs + \"!\")"
   ]
  }
 ],
 "metadata": {
  "kernelspec": {
   "display_name": "Python 3 (ipykernel)",
   "language": "python",
   "name": "python3"
  },
  "language_info": {
   "codemirror_mode": {
    "name": "ipython",
    "version": 3
   },
   "file_extension": ".py",
   "mimetype": "text/x-python",
   "name": "python",
   "nbconvert_exporter": "python",
   "pygments_lexer": "ipython3",
   "version": "3.9.12"
  }
 },
 "nbformat": 4,
 "nbformat_minor": 5
}
