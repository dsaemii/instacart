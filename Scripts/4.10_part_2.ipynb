{
 "cells": [
  {
   "cell_type": "code",
   "execution_count": 1,
   "metadata": {},
   "outputs": [],
   "source": [
    "# import libraries\n",
    "import pandas as pd\n",
    "import numpy as np\n",
    "import os\n",
    "import matplotlib.pyplot as plt\n",
    "import seaborn as sns\n",
    "import scipy"
   ]
  },
  {
   "cell_type": "code",
   "execution_count": 2,
   "metadata": {},
   "outputs": [],
   "source": [
    "# import dataframes\n",
    "path = r'...'\n",
    "orders_product_all = pd.read_pickle(os.path.join(path, '02 Data', 'Prepared Data', 'orders_product_all_final.pkl'))"
   ]
  },
  {
   "cell_type": "code",
   "execution_count": 19,
   "metadata": {},
   "outputs": [
    {
     "data": {
      "text/plain": [
       "order_id                                0\n",
       "customer_id                             0\n",
       "order_number                            0\n",
       "order_day_of_week                       0\n",
       "order_hour_of_day                       0\n",
       "days_since_prior_order            2075167\n",
       "new_customer                            0\n",
       "product_id                              0\n",
       "add_to_cart_order                       0\n",
       "reordered                               0\n",
       "product_name                            0\n",
       "aisle_id                                0\n",
       "department_id                           0\n",
       "prices                                  0\n",
       "_merge                                  0\n",
       "price_range                             0\n",
       "busiest_day                             0\n",
       "busiest_days                            0\n",
       "busiest_period_of_day                   0\n",
       "max_order                               0\n",
       "loyalty_flag                            0\n",
       "mean_order                              0\n",
       "spending_flag                           0\n",
       "days_since_prior_order_median           5\n",
       "order_frequency_flag                    5\n",
       "first_name                              0\n",
       "last_name                               0\n",
       "gender                                  0\n",
       "state                                   0\n",
       "age                                     0\n",
       "date_joined                             0\n",
       "n_dependants                            0\n",
       "marital_status                          0\n",
       "income                                  0\n",
       "region                                  0\n",
       "orders_count                            0\n",
       "low_activity                     32401975\n",
       "characteristic_family                   0\n",
       "characteristic_time                     0\n",
       "characteristic_day                      0\n",
       "dtype: int64"
      ]
     },
     "execution_count": 19,
     "metadata": {},
     "output_type": "execute_result"
    }
   ],
   "source": [
    "# find missing values\n",
    "orders_product_all.isnull().sum()"
   ]
  },
  {
   "cell_type": "code",
   "execution_count": 20,
   "metadata": {},
   "outputs": [
    {
     "data": {
      "text/html": [
       "<div>\n",
       "<style scoped>\n",
       "    .dataframe tbody tr th:only-of-type {\n",
       "        vertical-align: middle;\n",
       "    }\n",
       "\n",
       "    .dataframe tbody tr th {\n",
       "        vertical-align: top;\n",
       "    }\n",
       "\n",
       "    .dataframe thead th {\n",
       "        text-align: right;\n",
       "    }\n",
       "</style>\n",
       "<table border=\"1\" class=\"dataframe\">\n",
       "  <thead>\n",
       "    <tr style=\"text-align: right;\">\n",
       "      <th></th>\n",
       "      <th>order_id</th>\n",
       "      <th>customer_id</th>\n",
       "      <th>order_number</th>\n",
       "      <th>order_day_of_week</th>\n",
       "      <th>order_hour_of_day</th>\n",
       "      <th>days_since_prior_order</th>\n",
       "      <th>new_customer</th>\n",
       "      <th>product_id</th>\n",
       "      <th>add_to_cart_order</th>\n",
       "      <th>reordered</th>\n",
       "      <th>...</th>\n",
       "      <th>date_joined</th>\n",
       "      <th>n_dependants</th>\n",
       "      <th>marital_status</th>\n",
       "      <th>income</th>\n",
       "      <th>region</th>\n",
       "      <th>orders_count</th>\n",
       "      <th>low_activity</th>\n",
       "      <th>characteristic_family</th>\n",
       "      <th>characteristic_time</th>\n",
       "      <th>characteristic_day</th>\n",
       "    </tr>\n",
       "  </thead>\n",
       "  <tbody>\n",
       "  </tbody>\n",
       "</table>\n",
       "<p>0 rows × 40 columns</p>\n",
       "</div>"
      ],
      "text/plain": [
       "Empty DataFrame\n",
       "Columns: [order_id, customer_id, order_number, order_day_of_week, order_hour_of_day, days_since_prior_order, new_customer, product_id, add_to_cart_order, reordered, product_name, aisle_id, department_id, prices, _merge, price_range, busiest_day, busiest_days, busiest_period_of_day, max_order, loyalty_flag, mean_order, spending_flag, days_since_prior_order_median, order_frequency_flag, first_name, last_name, gender, state, age, date_joined, n_dependants, marital_status, income, region, orders_count, low_activity, characteristic_family, characteristic_time, characteristic_day]\n",
       "Index: []\n",
       "\n",
       "[0 rows x 40 columns]"
      ]
     },
     "execution_count": 20,
     "metadata": {},
     "output_type": "execute_result"
    }
   ],
   "source": [
    "# check for duplicates\n",
    "orders_product_all[orders_product_all.duplicated()]"
   ]
  },
  {
   "cell_type": "code",
   "execution_count": 21,
   "metadata": {
    "scrolled": true
   },
   "outputs": [
    {
     "data": {
      "text/plain": [
       "<AxesSubplot:xlabel='order_hour_of_day'>"
      ]
     },
     "execution_count": 21,
     "metadata": {},
     "output_type": "execute_result"
    },
    {
     "data": {
      "image/png": "[encoded data removed]",
      "text/plain": [
       "<Figure size 432x288 with 1 Axes>"
      ]
     },
     "metadata": {
      "needs_background": "light"
     },
     "output_type": "display_data"
    }
   ],
   "source": [
    "# hours and money spent bar\n",
    "orders_product_all.groupby('order_hour_of_day').agg({'prices': ['sum']}).plot.bar()"
   ]
  },
  {
   "cell_type": "code",
   "execution_count": 22,
   "metadata": {},
   "outputs": [
    {
     "data": {
      "text/plain": [
       "Index(['order_id', 'customer_id', 'order_number', 'order_day_of_week',\n",
       "       'order_hour_of_day', 'days_since_prior_order', 'new_customer',\n",
       "       'product_id', 'add_to_cart_order', 'reordered', 'product_name',\n",
       "       'aisle_id', 'department_id', 'prices', '_merge', 'price_range',\n",
       "       'busiest_day', 'busiest_days', 'busiest_period_of_day', 'max_order',\n",
       "       'loyalty_flag', 'mean_order', 'spending_flag',\n",
       "       'days_since_prior_order_median', 'order_frequency_flag', 'first_name',\n",
       "       'last_name', 'gender', 'state', 'age', 'date_joined', 'n_dependants',\n",
       "       'marital_status', 'income', 'region', 'orders_count', 'low_activity',\n",
       "       'characteristic_family', 'characteristic_time', 'characteristic_day'],\n",
       "      dtype='object')"
      ]
     },
     "execution_count": 22,
     "metadata": {},
     "output_type": "execute_result"
    }
   ],
   "source": [
    "orders_product_all.columns"
   ]
  },
  {
   "cell_type": "code",
   "execution_count": 23,
   "metadata": {},
   "outputs": [
    {
     "data": {
      "text/plain": [
       "<AxesSubplot:>"
      ]
     },
     "execution_count": 23,
     "metadata": {},
     "output_type": "execute_result"
    },
    {
     "data": {
      "image/png": "[encoded data removed]",
      "text/plain": [
       "<Figure size 432x288 with 1 Axes>"
      ]
     },
     "metadata": {
      "needs_background": "light"
     },
     "output_type": "display_data"
    }
   ],
   "source": [
    "# frequency of departments\n",
    "orders_product_all['department_id'].value_counts(dropna = False).sort_index().plot.bar()"
   ]
  },
  {
   "cell_type": "code",
   "execution_count": 24,
   "metadata": {},
   "outputs": [
    {
     "data": {
      "text/plain": [
       "<AxesSubplot:>"
      ]
     },
     "execution_count": 24,
     "metadata": {},
     "output_type": "execute_result"
    },
    {
     "data": {
      "image/png": "[encoded data removed]",
      "text/plain": [
       "<Figure size 432x288 with 1 Axes>"
      ]
     },
     "metadata": {
      "needs_background": "light"
     },
     "output_type": "display_data"
    }
   ],
   "source": [
    "# frequency of departments\n",
    "orders_product_all['region'].value_counts(dropna = False).sort_index().plot.bar()"
   ]
  }
 ],
 "metadata": {
  "kernelspec": {
   "display_name": "Python 3 (ipykernel)",
   "language": "python",
   "name": "python3"
  },
  "language_info": {
   "codemirror_mode": {
    "name": "ipython",
    "version": 3
   },
   "file_extension": ".py",
   "mimetype": "text/x-python",
   "name": "python",
   "nbconvert_exporter": "python",
   "pygments_lexer": "ipython3",
   "version": "3.9.12"
  }
 },
 "nbformat": 4,
 "nbformat_minor": 4
}
